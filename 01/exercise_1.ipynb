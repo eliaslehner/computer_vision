{
 "cells": [
  {
   "attachments": {},
   "cell_type": "markdown",
   "metadata": {},
   "source": [
    "# Assignment 1 (Introduction to Python) - (5 Pts)\n",
    "\n",
    "In this homework, we will go through basic linear algebra, NumPy, and image manipulation using Python to get everyone on the same page for the prerequisite skills for this class.\n",
    "\n",
    "One of the aims of this homework assignment is to get you to start getting comfortable searching for useful library functions online. So in many of the functions you will implement, you will have to look up helper functions."
   ]
  },
  {
   "attachments": {},
   "cell_type": "markdown",
   "metadata": {},
   "source": [
    "## Conda Setup"
   ]
  },
  {
   "attachments": {},
   "cell_type": "markdown",
   "metadata": {},
   "source": [
    "Generate the conda environment by running in the terminal:\n",
    "\n",
    "`conda create --name gcv_exercise_1 python=3.11`\n",
    "\n",
    "Run to activate environment:\n",
    "\n",
    "`conda activate gcv_exercise_1`\n",
    "\n",
    "Install all required packages for this exercise by running:\n",
    "\n",
    "`conda install matplotlib numpy scikit-image pillow`\n",
    "\n",
    "Install Jupyter Notebook requirements (VSCode may ask you to do this automatically):\n",
    "\n",
    "`conda install -n gcv_exercise_1 ipykernel --update-deps --force-reinstall`"
   ]
  },
  {
   "attachments": {},
   "cell_type": "markdown",
   "metadata": {},
   "source": [
    "## Notebook Setup & Imports"
   ]
  },
  {
   "cell_type": "code",
   "execution_count": 1,
   "metadata": {},
   "outputs": [],
   "source": [
    "# Setup\n",
    "\n",
    "# The Random module implements pseudo-random number generators\n",
    "import random \n",
    "\n",
    "# Numpy is the main package for scientific computing with Python. \n",
    "# This will be one of our most used libraries in this class\n",
    "import numpy as np\n",
    "\n",
    "# The Time library helps us time code runtimes\n",
    "import time\n",
    "\n",
    "# Import the PIL library, useful for handling images\n",
    "from PIL import Image\n",
    "\n",
    "# Matplotlib is a useful plotting library for python \n",
    "import matplotlib.pyplot as plt\n",
    "\n",
    "# This code is to make matplotlib figures appear inline in the\n",
    "# notebook rather than in a new window.\n",
    "%matplotlib inline\n",
    "plt.rcParams['figure.figsize'] = (10.0, 8.0) # set default size of plots\n",
    "plt.rcParams['image.interpolation'] = 'nearest'\n",
    "plt.rcParams['image.cmap'] = 'gray'"
   ]
  },
  {
   "attachments": {},
   "cell_type": "markdown",
   "metadata": {},
   "source": [
    "## Part 1: Linear Algebra and NumPy Review\n",
    "In this section, we will review linear algebra and learn how to use vectors and matrices in python using numpy. By the end of this section, you will have implemented all the `TODOs`."
   ]
  },
  {
   "attachments": {},
   "cell_type": "markdown",
   "metadata": {},
   "source": [
    "## Question 1.1 (0.5 Pt)\n",
    "First, let's test whether you can define the following matrices and vectors using numpy. Look up `np.array()` for help. In the next code block, define $M$ as a $(4, 3)$ matrix, $a$ as a $(1, 3)$ row vector and $b$ as a $(3, 1)$ column vector:\n",
    "\n",
    "$$M = \\begin{bmatrix}\n",
    "1 & 2 & 3 \\\\\n",
    "4 & 5 & 6 \\\\\n",
    "7 & 8 & 9 \\\\\n",
    "10 & 11 & 12 \\end{bmatrix}\n",
    "$$\n",
    "\n",
    "$$a = \\begin{bmatrix}\n",
    "1 & 5 & 0\n",
    "\\end{bmatrix}\n",
    "$$\n",
    "\n",
    "$$b = \\begin{bmatrix}\n",
    "-3 \\\\ 2 \\\\ 5\n",
    "\\end{bmatrix}  \n",
    "$$ "
   ]
  },
  {
   "cell_type": "code",
   "execution_count": null,
   "metadata": {},
   "outputs": [
    {
     "name": "stdout",
     "output_type": "stream",
     "text": [
      "M = \n",
      " [[ 1  2  3]\n",
      " [ 4  5  6]\n",
      " [ 7  8  9]\n",
      " [10 11 12]]\n",
      "The size of M is:  (4, 3)\n",
      "\n",
      "a =  [[1 5 0]]\n",
      "The size of a is:  (1, 3)\n",
      "\n",
      "b =  [[-3]\n",
      " [ 2]\n",
      " [ 5]]\n",
      "The size of b is:  (3, 1)\n"
     ]
    }
   ],
   "source": [
    "# *****BEGINNING OF YOUR CODE (DO NOT DELETE THIS LINE)*****\n",
    "pass\n",
    "M = np.array([[1,2,3],[4,5,6],[7,8,9],[10,11,12]])\n",
    "a = np.array([[1,5,0]])\n",
    "b = np.array([[-3],[2],[5]])\n",
    "# DOC: https://numpy.org/devdocs//reference/generated/numpy.array.html\n",
    "# *****END OF YOUR CODE (DO NOT DELETE THIS LINE)*****\n",
    "\n",
    "print(\"M = \\n\", M)\n",
    "print(\"The size of M is: \", M.shape)\n",
    "print()\n",
    "print(\"a = \", a)\n",
    "print(\"The size of a is: \", a.shape)\n",
    "print()\n",
    "print(\"b = \", b)\n",
    "print(\"The size of b is: \", b.shape)"
   ]
  },
  {
   "attachments": {},
   "cell_type": "markdown",
   "metadata": {},
   "source": [
    "## Question 1.2 (1 Pt)\n",
    "Implement the `dot_product()` method and check that it returns the correct answer for $a^Tb$."
   ]
  },
  {
   "cell_type": "code",
   "execution_count": 5,
   "metadata": {},
   "outputs": [
    {
     "name": "stdout",
     "output_type": "stream",
     "text": [
      "[[7]]\n",
      "The size is:  (1, 1)\n"
     ]
    }
   ],
   "source": [
    "# Now, let's test out this dot product. Your answer should be [[7]].\n",
    "\n",
    "def dot_product(a, b):\n",
    "    \"\"\"Implement dot product between the two vectors: a and b.\n",
    "    (optional): While you can solve this using for loops, we recommend\n",
    "    that you look up `np.dot()` online and use that instead.\n",
    "    Args:\n",
    "        a: numpy array of shape (x, n)\n",
    "        b: numpy array of shape (n, x)\n",
    "    Returns:\n",
    "        out: numpy array of shape (x, x) (scalar if x = 1)\n",
    "    \"\"\"\n",
    "    out = None\n",
    "    # *****BEGINNING OF YOUR CODE (DO NOT DELETE THIS LINE)*****\n",
    "    pass\n",
    "    # DOC: https://numpy.org/doc/stable/reference/generated/numpy.dot.html\n",
    "    out = np.dot(a, b)\n",
    "    # *****END OF YOUR CODE (DO NOT DELETE THIS LINE)*****\n",
    "    return out\n",
    "    \n",
    "aDotB = dot_product(a, b)\n",
    "print(aDotB)\n",
    "\n",
    "print(\"The size is: \", aDotB.shape)"
   ]
  },
  {
   "attachments": {},
   "cell_type": "markdown",
   "metadata": {},
   "source": [
    "## Question 1.3 (1 Pts)\n",
    "Implement the `complicated_matrix_function()` method and use it to compute $(ab)Ma^T$\n",
    "\n",
    "IMPORTANT NOTE: The `complicated_matrix_function()` method expects all inputs to be two dimensional numpy arrays, as opposed to 1-D arrays.  This is an important distinction, because 2-D arrays can be transposed, while 1-D arrays cannot.\n",
    "\n",
    "To transpose a 2-D array, you can use the syntax `array.T` "
   ]
  },
  {
   "cell_type": "code",
   "execution_count": 7,
   "metadata": {},
   "outputs": [
    {
     "name": "stdout",
     "output_type": "stream",
     "text": [
      "[[ 77]\n",
      " [203]\n",
      " [329]\n",
      " [455]]\n",
      "\n",
      "The size is:  (4, 1)\n"
     ]
    }
   ],
   "source": [
    "def complicated_matrix_function(M, a, b):\n",
    "    \"\"\"Implement (a * b) * (M * a.T).\n",
    "    (optional): Use the `dot_product(a, b)` function you wrote above\n",
    "    as a helper function.\n",
    "    Args:\n",
    "        M: numpy matrix of shape (m, n).\n",
    "        a: numpy array of shape (1, n).\n",
    "        b: numpy array of shape (n, 1).\n",
    "    Returns:\n",
    "        out: numpy matrix of shape (m, 1).\n",
    "    \"\"\"\n",
    "    out = None\n",
    "    # *****BEGINNING OF YOUR CODE (DO NOT DELETE THIS LINE)*****\n",
    "    pass\n",
    "    c = dot_product(a, b)\n",
    "    d = np.dot(M, a.T)\n",
    "    out = c * d\n",
    "    # *****END OF YOUR CODE (DO NOT DELETE THIS LINE)*****\n",
    "    return out\n",
    "\n",
    "# Your answer should be $[[77], [203], [329], [455]]$ of shape(4, 1).\n",
    "ans = complicated_matrix_function(M, a, b)\n",
    "print(ans)\n",
    "print()\n",
    "print(\"The size is: \", ans.shape)"
   ]
  },
  {
   "attachments": {},
   "cell_type": "markdown",
   "metadata": {},
   "source": [
    "# Part 2: Image Manipulation \n",
    "\n",
    "Now that you are familiar with using matrices and vectors. Let's load some images and treat them as matrices and do some operations on them."
   ]
  },
  {
   "cell_type": "code",
   "execution_count": 9,
   "metadata": {},
   "outputs": [],
   "source": [
    "image1_path = './example.jpg'\n",
    "\n",
    "def display(img):\n",
    "    # Show image\n",
    "    plt.figure(figsize = (5,5))\n",
    "    plt.imshow(img)\n",
    "    plt.axis('off')\n",
    "    plt.show()"
   ]
  },
  {
   "attachments": {},
   "cell_type": "markdown",
   "metadata": {},
   "source": [
    "## Question 2.1 (0.5 Pt)\n",
    "Implement the `load()` method and check out the display method above. We will use these two methods through the rest of the notebook to visualize our work."
   ]
  },
  {
   "cell_type": "code",
   "execution_count": null,
   "metadata": {},
   "outputs": [],
   "source": [
    "def load(image_path):\n",
    "    \"\"\"Loads an image from a file path.\n",
    "    HINT: Look up `PIL: Image.open()` function.\n",
    "    Args:\n",
    "        image_path: file path to the image.\n",
    "    Returns:\n",
    "        out: numpy array of shape(image_height, image_width, 3).\n",
    "    \"\"\"\n",
    "    out = None\n",
    "\n",
    "    # Use PIL Image.open\n",
    "    # *****BEGINNING OF YOUR CODE (DO NOT DELETE THIS LINE)*****\n",
    "    pass\n",
    "    image = Image.open(image_path)\n",
    "    out = np.array(image)\n",
    "    # *****END OF YOUR CODE (DO NOT DELETE THIS LINE)*****\n",
    "    # Let's convert the image to be between the correct range.\n",
    "    out = out.astype(np.float64) / 255\n",
    "    return out\n",
    "\n",
    "image1 = load(image1_path)\n",
    "display(image1)\n",
    "print(image1.shape)"
   ]
  },
  {
   "attachments": {},
   "cell_type": "markdown",
   "metadata": {},
   "source": [
    "## Question 2.2 (1 Pts)\n",
    "One of the most common operations we perform when working with images is rectangular **cropping**, or the action of removing unwanted outer areas of an image.\n",
    "\n",
    "Take a look at this code we've written to crop out everything but the reader's desk:"
   ]
  },
  {
   "cell_type": "code",
   "execution_count": null,
   "metadata": {},
   "outputs": [],
   "source": [
    "display(image1[540:1080, 540:1080, :])"
   ]
  },
  {
   "attachments": {},
   "cell_type": "markdown",
   "metadata": {},
   "source": [
    "Implement the `crop_image()` method by taking in the starting row index, starting column index, number of rows, and number of columns, and outputting the cropped image. Do NOT use the PIL library, instead everything can be done only using numpy.\n",
    "\n",
    "Then, in the cell below, see if you can pull out a 100x100 square from each corner of the original `image1`: the top left, top right, bottom left, and bottom right."
   ]
  },
  {
   "cell_type": "code",
   "execution_count": null,
   "metadata": {},
   "outputs": [],
   "source": [
    "def crop_image(image, start_row, start_col, num_rows, num_cols):\n",
    "    \"\"\"Crop an image based on the specified bounds.\n",
    "    Args:\n",
    "        image: numpy array of shape(image_height, image_width, 3).\n",
    "        start_row (int): The starting row index we want to include in our cropped image.\n",
    "        start_col (int): The starting column index we want to include in our cropped image.\n",
    "        num_rows (int): Number of rows in our desired cropped image.\n",
    "        num_cols (int): Number of columns in our desired cropped image.\n",
    "    Returns:\n",
    "        out: numpy array of shape(num_rows, num_cols, 3).\n",
    "    \"\"\"\n",
    "\n",
    "    out = None\n",
    "\n",
    "    # *****BEGINNING OF YOUR CODE (DO NOT DELETE THIS LINE)*****\n",
    "    pass\n",
    "    # *****END OF YOUR CODE (DO NOT DELETE THIS LINE)*****\n",
    "\n",
    "    return out\n",
    "\n",
    "r, c = image1.shape[0], image1.shape[1]\n",
    "\n",
    "top_left_corner = crop_image(image1, 0, 0, 100, 100)\n",
    "top_right_corner = crop_image(image1, 0, c-100, 100, 100) \n",
    "bottom_left_corner = crop_image(image1, r-100, 0, 100, 100)\n",
    "bottom_right_corner = crop_image(image1, r-100, c-100, 100, 100) \n",
    "\n",
    "display(top_left_corner)\n",
    "display(top_right_corner)\n",
    "display(bottom_left_corner)\n",
    "display(bottom_right_corner)"
   ]
  },
  {
   "attachments": {},
   "cell_type": "markdown",
   "metadata": {},
   "source": [
    "## Question 2.3 (1 Pts)\n",
    "Let's try another commonly used operation: image resizing!\n",
    "\n",
    "At a high level, image resizing should go something like this:\n",
    "\n",
    "1. We create an (initially empty) output array of the desired size, `output_image`\n",
    "2. We iterate over each pixel position `(i,j)` in the output image\n",
    "    - For each output pixel, we compute a corresponding input pixel `(input_i, input_j)`\n",
    "    - We assign `output_image[i, j, :]` to `input_image[input_i, input_j, :]`\n",
    "3. We return the resized output image\n",
    "\n",
    "We want `input_i` and `input_j` to increase proportionally with `i` and `j` respectively:\n",
    "\n",
    "- `input_i` can be computed as `int(i * row_scale_factor)`\n",
    "- `input_j` can be computed as `int(j * col_scale_factor)`\n",
    "\n",
    "...where `int()` is a Python operation that takes a float and rounds it down to the nearest integer, and `row_scale_factor` and `col_scale_factor` are constants computed from the image input/output sizes.\n",
    "\n",
    "Again, do NOT use the PIL library, instead everything can be done using numpy.\n",
    "\n",
    "Try to figure out what `row_scale_factor` and `col_scale_factor` should be, then implement this algorithm in the `resize_image()` method! Then, run the cells below to test out your image resizing algorithm!\n",
    "\n",
    "When you downsize the image to 16x16, you should expect an output that looks something like this:\n",
    "\n",
    "![16_16_desk.png](16_16_desk.png)\n",
    "\n",
    "When you stretch it horizontally to 50x400, you should get:\n",
    "\n",
    "![50_400_desk.png](50_400_desk.png)"
   ]
  },
  {
   "cell_type": "code",
   "execution_count": null,
   "metadata": {},
   "outputs": [],
   "source": [
    "def resize_image(input_image, output_rows, output_cols):\n",
    "    \"\"\"Resize an image using the nearest neighbor method.\n",
    "    Args:\n",
    "        input_image (np.ndarray): RGB image stored as an array, with shape\n",
    "            `(input_rows, input_cols, 3)`.\n",
    "        output_rows (int): Number of rows in our desired output image.\n",
    "        output_cols (int): Number of columns in our desired output image.\n",
    "    Returns:\n",
    "        np.ndarray: Resized image, with shape `(output_rows, output_cols, 3)`.\n",
    "    \"\"\"\n",
    "    input_rows, input_cols, channels = input_image.shape\n",
    "    assert channels == 3\n",
    "\n",
    "    # 1. Create the resized output image\n",
    "    output_image = np.zeros(shape=(output_rows, output_cols, 3))\n",
    "\n",
    "    # 2. Populate the `output_image` array using values from `input_image`\n",
    "    #    > This should require two nested for loops!\n",
    "    # *****BEGINNING OF YOUR CODE (DO NOT DELETE THIS LINE)*****\n",
    "    pass\n",
    "    # *****END OF YOUR CODE (DO NOT DELETE THIS LINE)*****\n",
    "\n",
    "    # 3. Return the output image\n",
    "    return output_image\n",
    "\n",
    "display(resize_image(image1, 16, 16))\n",
    "display(resize_image(image1, 50, 400))"
   ]
  }
 ],
 "metadata": {
  "kernelspec": {
   "display_name": "venv",
   "language": "python",
   "name": "python3"
  },
  "language_info": {
   "codemirror_mode": {
    "name": "ipython",
    "version": 3
   },
   "file_extension": ".py",
   "mimetype": "text/x-python",
   "name": "python",
   "nbconvert_exporter": "python",
   "pygments_lexer": "ipython3",
   "version": "3.13.7"
  },
  "orig_nbformat": 4
 },
 "nbformat": 4,
 "nbformat_minor": 2
}
